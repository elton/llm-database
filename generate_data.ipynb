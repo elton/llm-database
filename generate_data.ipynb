{
 "cells": [
  {
   "attachments": {},
   "cell_type": "markdown",
   "metadata": {},
   "source": [
    "# 生成销售数据\n",
    "\n",
    "**销售人员表 (Salesperson):**\n",
    "\n",
    "*   id (主键，自增长)\n",
    "*   name (销售人员姓名)\n",
    "*   region (所属大区)\n",
    "\n",
    "**商品信息表 (Product):**\n",
    "\n",
    "*   id (主键，自增长)\n",
    "*   name (商品名称)\n",
    "*   price (商品价格)\n",
    "\n",
    "**客户资料表 (Customer):**\n",
    "\n",
    "*   id (主键，自增长)\n",
    "*   name (客户姓名)\n",
    "*   region (所属大区)\n",
    "\n",
    "**销售数据表 (SalesData):**\n",
    "\n",
    "*   id (主键，自增长)\n",
    "*   salesperson\\_id (外键，关联销售人员表的id)\n",
    "*   product\\_id (外键，关联商品信息表的id)\n",
    "*   customer\\_id (外键，关联客户资料表的id)\n",
    "*   amount (销售金额)\n",
    "*   sales\\_date (销售日期)\n"
   ]
  },
  {
   "cell_type": "code",
   "execution_count": null,
   "metadata": {},
   "outputs": [],
   "source": [
    "# %pip install pymysql cryptography faker"
   ]
  },
  {
   "cell_type": "code",
   "execution_count": 80,
   "metadata": {},
   "outputs": [],
   "source": [
    "import random\n",
    "import faker\n",
    "import pymysql"
   ]
  },
  {
   "attachments": {},
   "cell_type": "markdown",
   "metadata": {},
   "source": [
    "## 连接数据库\n",
    "\n",
    "![erd](./img/erd.png)\n"
   ]
  },
  {
   "cell_type": "code",
   "execution_count": 150,
   "metadata": {},
   "outputs": [],
   "source": [
    "# 建立数据库连接\n",
    "cnx = pymysql.connect(\n",
    "    host='localhost',\n",
    "    user='root',\n",
    "    password='04m27d',\n",
    "    database='sale',\n",
    "    charset='utf8mb4'\n",
    ")\n",
    "cursor = cnx.cursor()"
   ]
  },
  {
   "attachments": {},
   "cell_type": "markdown",
   "metadata": {},
   "source": [
    "## 创建数据库表\n"
   ]
  },
  {
   "cell_type": "code",
   "execution_count": 82,
   "metadata": {},
   "outputs": [
    {
     "data": {
      "text/plain": [
       "0"
      ]
     },
     "execution_count": 82,
     "metadata": {},
     "output_type": "execute_result"
    }
   ],
   "source": [
    "# 创建Region表\n",
    "create_table = \"\"\"\n",
    "CREATE TABLE Region (\n",
    "  id INT AUTO_INCREMENT PRIMARY KEY,\n",
    "  region_name VARCHAR(255)\n",
    ")\n",
    "\"\"\"\n",
    "cursor.execute(create_table)\n",
    "\n",
    "\n",
    "# 创建销售人员表\n",
    "salesperson_table = \"\"\"\n",
    "CREATE TABLE Salesperson (\n",
    "  id INT AUTO_INCREMENT PRIMARY KEY,\n",
    "  name VARCHAR(255),\n",
    "  gender CHAR(1),\n",
    "  birthday DATE,\n",
    "  address VARCHAR(255),\n",
    "  id_card VARCHAR(255),\n",
    "  phone VARCHAR(255),\n",
    "  performance_score DECIMAL(5, 2),\n",
    "  performance_bonus DECIMAL(10, 2),\n",
    "  position VARCHAR(255),\n",
    "  join_date DATE,\n",
    "  region_id INT,\n",
    "  FOREIGN KEY (region_id) REFERENCES Region(id)\n",
    ")\n",
    "\"\"\"\n",
    "cursor.execute(salesperson_table)\n",
    "\n",
    "# 创建商品信息表\n",
    "product_table = \"\"\"\n",
    "CREATE TABLE Product (\n",
    "    id INT AUTO_INCREMENT PRIMARY KEY,\n",
    "    name VARCHAR(100),\n",
    "    price DECIMAL(10, 2)\n",
    ")\n",
    "\"\"\"\n",
    "cursor.execute(product_table)\n",
    "\n",
    "# 创建客户资料表\n",
    "customer_table = \"\"\"\n",
    "CREATE TABLE Customer (\n",
    "  id INT AUTO_INCREMENT PRIMARY KEY,\n",
    "  name VARCHAR(255),\n",
    "  region_id INT,\n",
    "  FOREIGN KEY (region_id) REFERENCES Region(id)\n",
    ")\n",
    "\"\"\"\n",
    "cursor.execute(customer_table)\n",
    "\n",
    "# 创建销售数据表\n",
    "sales_data_table = \"\"\"\n",
    "CREATE TABLE SalesData (\n",
    "    id INT AUTO_INCREMENT PRIMARY KEY,\n",
    "    salesperson_id INT,\n",
    "    product_id INT,\n",
    "    customer_id INT,\n",
    "    region_id INT,\n",
    "    amount INT,\n",
    "    total DECIMAL(10, 2),\n",
    "    sales_date DATE,\n",
    "    FOREIGN KEY (salesperson_id) REFERENCES Salesperson(id),\n",
    "    FOREIGN KEY (product_id) REFERENCES Product(id),\n",
    "    FOREIGN KEY (customer_id) REFERENCES Customer(id),\n",
    "    FOREIGN KEY (region_id) REFERENCES Region(id)\n",
    ")\n",
    "\"\"\"\n",
    "cursor.execute(sales_data_table)"
   ]
  },
  {
   "attachments": {},
   "cell_type": "markdown",
   "metadata": {},
   "source": [
    "## 生成大区信息\n"
   ]
  },
  {
   "cell_type": "code",
   "execution_count": 83,
   "metadata": {},
   "outputs": [],
   "source": [
    "# 区域信息\n",
    "regions = ['东北', '华北', '华东', '华南', '西南']\n",
    "\n",
    "# 插入区域数据\n",
    "insert_regions = \"INSERT INTO Region (region_name) VALUES (%s)\"\n",
    "region_data = [(region,) for region in regions]\n",
    "cursor.executemany(insert_regions, region_data)\n",
    "\n",
    "# 提交事务\n",
    "cnx.commit()"
   ]
  },
  {
   "attachments": {},
   "cell_type": "markdown",
   "metadata": {},
   "source": [
    "## 读取大区信息\n"
   ]
  },
  {
   "cell_type": "code",
   "execution_count": 118,
   "metadata": {},
   "outputs": [
    {
     "data": {
      "text/plain": [
       "[1, 2, 3, 4, 5]"
      ]
     },
     "execution_count": 118,
     "metadata": {},
     "output_type": "execute_result"
    }
   ],
   "source": [
    "query_regions = \"SELECT id FROM Region\"\n",
    "cursor.execute(query_regions)\n",
    "regions = [row[0] for row in cursor.fetchall()]\n",
    "\n",
    "regions"
   ]
  },
  {
   "attachments": {},
   "cell_type": "markdown",
   "metadata": {},
   "source": [
    "## 生成销售人员信息\n"
   ]
  },
  {
   "cell_type": "code",
   "execution_count": 147,
   "metadata": {},
   "outputs": [],
   "source": [
    "# 模拟生成销售人员数据\n",
    "from faker import Faker\n",
    "\n",
    "\n",
    "# 生成模拟数据\n",
    "fake = Faker('zh_CN')\n",
    "\n",
    "salesperson_data = []\n",
    "for region in regions:\n",
    "    # 生成每个大区的销售人员数量\n",
    "    salesperson_count = random.randint(70, 150)\n",
    "\n",
    "    for _ in range(salesperson_count):\n",
    "        profile = fake.profile()\n",
    "        name = profile['name']\n",
    "        gender = profile['sex']\n",
    "        birthday = fake.date_of_birth(minimum_age=25, maximum_age=50)\n",
    "        address = profile['address']\n",
    "        phone = fake.phone_number()\n",
    "        performance_score = random.uniform(60, 100)\n",
    "        performance_bonus = random.uniform(1000, 5000)\n",
    "        position = position = random.choice(['销售经理', '销售主管', '销售代表'])\n",
    "        join_date = fake.date_between(start_date='-5y', end_date='today')\n",
    "        id_card = profile['ssn']\n",
    "\n",
    "        salesperson_data.append((name, gender, birthday, address, phone, performance_score,\n",
    "                                performance_bonus, position, join_date, id_card, region))\n",
    "\n",
    "# 插入销售人员数据\n",
    "insert_salesperson = \"INSERT INTO Salesperson (name, gender, birthday, address, phone, performance_score, performance_bonus, position, join_date, id_card, region_id) VALUES (%s, %s, %s, %s, %s, %s, %s, %s, %s, %s, %s)\"\n",
    "cursor.executemany(insert_salesperson, salesperson_data)\n",
    "\n",
    "# 提交事务\n",
    "cnx.commit()"
   ]
  },
  {
   "attachments": {},
   "cell_type": "markdown",
   "metadata": {},
   "source": [
    "## 生成商品数据\n"
   ]
  },
  {
   "attachments": {},
   "cell_type": "markdown",
   "metadata": {},
   "source": [
    "### 获取商品名称\n",
    "\n",
    "#### 获取淘宝商品信息\n",
    "\n",
    "##### 获取指定商品列表的url\n"
   ]
  },
  {
   "cell_type": "code",
   "execution_count": 87,
   "metadata": {},
   "outputs": [],
   "source": [
    "# 导入requests包\n",
    "import requests\n",
    "\n",
    "# `q`即为查询的商品的名称, `x`为查询的页数\n",
    "\n",
    "\n",
    "def Geturls(q, x):\n",
    "    url = \"https://s.taobao.com/search?q=\" + q + \"&imgfile=&commend=all&ssid=s5-e&search_type=item&sourceId=tb.index&spm\" \\\n",
    "                                                 \"=a21bo.2017.201856-taobao-item.1&ie=utf8&initiative_id=tbindexz_20170306\"\n",
    "    urls = []\n",
    "    urls.append(url)\n",
    "    if x == 1:\n",
    "        return urls\n",
    "    for i in range(1, x):\n",
    "        url = \"https://s.taobao.com/search?q=\" + q + \"&commend=all&ssid=s5-e&search_type=item\" \\\n",
    "              \"&sourceId=tb.index&spm=a21bo.2017.201856-taobao-item.1&ie=utf8&initiative_id=tbindexz_20170306\" \\\n",
    "              \"&bcoffset=3&ntoffset=3&p4ppushleft=1%2C48&s=\" + str(\n",
    "                  i * 44)\n",
    "        urls.append(url)\n",
    "    return urls"
   ]
  },
  {
   "attachments": {},
   "cell_type": "markdown",
   "metadata": {},
   "source": [
    "##### 获取商品列表HTML页面\n"
   ]
  },
  {
   "cell_type": "code",
   "execution_count": 88,
   "metadata": {},
   "outputs": [],
   "source": [
    "def GetHtml(url, headers):\n",
    "  # 这里的请求get请求\n",
    "    r = requests.get(url, headers=headers)\n",
    "    r.raise_for_status()\n",
    "    r.encoding = r.apparent_encoding\n",
    "    return r"
   ]
  },
  {
   "attachments": {},
   "cell_type": "markdown",
   "metadata": {},
   "source": [
    "##### 解析商品列表HTML页面\n"
   ]
  },
  {
   "cell_type": "code",
   "execution_count": 89,
   "metadata": {},
   "outputs": [],
   "source": [
    "import json\n",
    "import re\n",
    "import time\n",
    "\n",
    "\n",
    "def get_goods_info(goods_str):\n",
    "    \"\"\"\n",
    "    解析json数据，并提取标题、价格、商家地址、销量、评价地址:param goods_str; string格式数据:return:\n",
    "    \"\"\"\n",
    "    goods_json = json.loads(goods_str)\n",
    "    goods_items = goods_json['mods']['itemlist']['data']['auctions']\n",
    "    goods_list = []\n",
    "    for goods_item in goods_items:\n",
    "        goods = {'title': goods_item['raw_title'],\n",
    "                 'price': goods_item['view_price'],\n",
    "                 'location': goods_item['item_loc'],\n",
    "                 'sales': goods_item['view_sales'],\n",
    "                 'comment_url': goods_item['comment_url']}\n",
    "        goods_list.append(goods)\n",
    "    return goods_list"
   ]
  },
  {
   "cell_type": "code",
   "execution_count": 90,
   "metadata": {},
   "outputs": [
    {
     "name": "stdout",
     "output_type": "stream",
     "text": [
      "224\n"
     ]
    }
   ],
   "source": [
    "#  下面的cookie要改成自己的，在Chrome浏览器中按F12，然后在Network中找到请求的url，然后在Headers中找到cookie\n",
    "headers = {\n",
    "    \"user-agent\": \"Mozilla/5.0 (Macintosh; Intel Mac OS X 10_15_7) AppleWebKit/537.36 (KHTML, like Gecko) Chrome/114.0.0.0 Safari/537.36\", \"cookie\": \"miid=378718641394829915; cookie2=1f955ab6ead9bd3badb3942c7ce0f987; t=ec42adcfb6f1a32a0dd7b9173e1f11d2; _samesite_flag_=true; cna=3RTEHJthAHUCAdJXyrfxrM45; cancelledSubSites=empty; dnk=zzysh; publishItemObj=Ng%3D%3D; tracknick=zzysh; _tb_token_=75b84ae861ee0; _utk=VocP@qJyn^AtWdm; alitrackid=www.taobao.com; lastalitrackid=www.taobao.com; _gid=GA1.2.737213218.1688174269; xlly_s=1; _uetsid=17a4a03017ad11eea005bbb36e61fce6; _uetvid=17a48e8017ad11ee8aefdb44d5fbf391; _ga=GA1.2.1700763778.1688174268; _ga_YFVFB9JLVB=GS1.1.1688174268.1.1.1688174277.0.0.0; sgcookie=E1002%2FOGF9%2FFi3gVil1fxmn7g2f2Q3nYai1%2BATFkYIdxxmfTLTBXm8qfBIWhMVOAgKK9XUz9GC%2FY8E5axVouTiY8QG9P%2B5%2F9%2B5Xpo2D0C%2BoSX2GM0a2J4AtAi2GlDO2Ui8WGi68kyuM%2FHyJeyz3uSIx1Uw%3D%3D; unb=10161714; uc3=vt3=F8dCsGO1TudAezwcj4c%3D&id2=UoH%2B4Nq1hrg%3D&nk2=GdImh2M%3D&lg2=VFC%2FuZ9ayeYq2g%3D%3D; csg=168deaa3; lgc=zzysh; cookie17=UoH%2B4Nq1hrg%3D; skt=8dbd453c556bfbf9; existShop=MTY4ODE3NDMxMQ%3D%3D; uc4=nk4=0%40Gxs1ktWfs6H3hz4OO8%2BwLQ%3D%3D&id4=0%40UOnhBNnhsrrsmq44E%2FqCMrDhPA%3D%3D; _cc_=V32FPkk%2Fhw%3D%3D; _l_g_=Ug%3D%3D; sg=h48; _nk_=zzysh; cookie1=VqoKHhjjCyaaWJGxSrsLW9hrRfSFdkB%2BVujxmtrYbGM%3D; _m_h5_tk=a386909c1f47fe25da1a6d40b67011e2_1688190864423; _m_h5_tk_enc=9916dd5d5f1dcfbba73ffc47e0651f10; mt=ci=1_1; uc1=pas=0&cookie14=Uoe8gqFXMmBTNw%3D%3D&cookie16=U%2BGCWk%2F74Mx5tgzv3dWpnhjPaQ%3D%3D&cookie15=W5iHLLyFOGW7aA%3D%3D&existShop=false&cookie21=WqG3DMC9EdFp7qHvqFD7pg%3D%3D; v=0; hng=CN%7Czh-CN%7CCNY%7C156; thw=cn; useNativeIM=false; tfstk=da9W3hTsJep4Xt_Bq8i2G9NcLZ6BFUMaPkspjHezvTBRJItMRaonZTRfRELfy8ooZ6QBrTCHaw7PR9tH5muZQA-kq9Xr7VkaCzBFUYmZFxlq23XhpVr4pfk6qFccSNssGcz-gyK_l-wYBaOmfClxBApfD2b9VLIc0Ks5NNCxFJXwVR7sUPNQc12CcNojcWV36Tr8d; l=fBQfiEPINHxgOOLDBOfwnurza77tGIRfguPzaNbMi9X19u5UddWAUHZJSJZ6Q3QQETfczetPl_pr6dEeyka3WxgKqelyRs5mp-p6-bpU-L5..; isg=BDAwa-x_IKw23fxbzCocMm6KAfiCeRTD-mitICqBmQsG5dGP0o11Uo2XOe2F9cyb; JSESSIONID=FBDB4E4299376A7A069341EB48B4CDEF\"\n",
    "}\n",
    "\n",
    "urls = Geturls(\"眼镜\", 5)\n",
    "goods_list = []\n",
    "for url in urls:\n",
    "    html = GetHtml(url, headers)\n",
    "\n",
    "    goods_match = re.search(r'g_page_config = (.*?)}};', html.text)\n",
    "    goods_str = goods_match.group(1) + '}}'\n",
    "    goods_info = get_goods_info(goods_str)\n",
    "    goods_list.append(goods_info)\n",
    "\n",
    "    time.sleep(5)\n",
    "\n",
    "# 将二维list扁平化 参考 https://note.nkmk.me/en/python-list-flatten/\n",
    "flatten_goods_list = sum(goods_list, [])\n",
    "print(len(flatten_goods_list))\n",
    "#"
   ]
  },
  {
   "cell_type": "code",
   "execution_count": 91,
   "metadata": {},
   "outputs": [
    {
     "data": {
      "text/plain": [
       "'德国蔡司防蓝光镜片成品可配有度数超轻纯钛近视眼镜框男大脸显瘦'"
      ]
     },
     "execution_count": 91,
     "metadata": {},
     "output_type": "execute_result"
    }
   ],
   "source": [
    "flatten_goods_list[0][\"title\"]"
   ]
  },
  {
   "attachments": {},
   "cell_type": "markdown",
   "metadata": {},
   "source": [
    "##### 保存商品数据到数据库\n"
   ]
  },
  {
   "cell_type": "code",
   "execution_count": 92,
   "metadata": {},
   "outputs": [],
   "source": [
    "# 模拟生成商品信息数据\n",
    "products = []\n",
    "\n",
    "for goods in flatten_goods_list:\n",
    "    name = goods[\"title\"]\n",
    "    price = goods[\"price\"]\n",
    "    products.append((name, price))\n",
    "\n",
    "# 插入商品信息数据\n",
    "insert_product = \"INSERT INTO Product (name, price) VALUES (%s, %s)\"\n",
    "cursor.executemany(insert_product, products)\n",
    "\n",
    "\n",
    "# 提交事务\n",
    "cnx.commit()"
   ]
  },
  {
   "attachments": {},
   "cell_type": "markdown",
   "metadata": {},
   "source": [
    "## 生成客户数据\n"
   ]
  },
  {
   "cell_type": "code",
   "execution_count": 93,
   "metadata": {},
   "outputs": [],
   "source": [
    "# 模拟生成客户资料数据\n",
    "customers = []\n",
    "fake = faker.Faker('zh_CN')\n",
    "for region in regions:\n",
    "    customer_count = random.randint(100, 200)  # 生成随机数量的客户\n",
    "    for _ in range(customer_count):\n",
    "        company_name = fake.company()\n",
    "        customers.append((company_name, region))\n",
    "\n",
    "# 插入客户资料数据\n",
    "insert_customer = \"INSERT INTO Customer (name, region_id) VALUES (%s, %s)\"\n",
    "cursor.executemany(insert_customer, customers)\n",
    "\n",
    "# 提交事务\n",
    "cnx.commit()"
   ]
  },
  {
   "attachments": {},
   "cell_type": "markdown",
   "metadata": {},
   "source": [
    "## 生成销售数据\n"
   ]
  },
  {
   "cell_type": "code",
   "execution_count": 148,
   "metadata": {},
   "outputs": [],
   "source": [
    "import datetime\n",
    "\n",
    "\n",
    "def daterange(start_date, end_date):\n",
    "    \"\"\"生成日期范围内的所有日期\n",
    "\n",
    "    Args:\n",
    "        start_date (_type_): 开始日期\n",
    "        end_date (_type_): 结束日期\n",
    "\n",
    "    Yields:\n",
    "        _type_: date\n",
    "    \"\"\"\n",
    "    for n in range((end_date - start_date).days + 1):\n",
    "        yield start_date + datetime.timedelta(n)\n",
    "\n",
    "\n",
    "# 模拟生成销售数据\n",
    "start_date = datetime.date(2023, 1, 1)\n",
    "end_date = datetime.date(2023, 6, 30)\n",
    "sales_data = []\n",
    "\n",
    "for region in regions:\n",
    "    # 查询当前大区的销售人员列表\n",
    "    query_salesperson = f\"SELECT id FROM Salesperson WHERE region_id = {region}\"\n",
    "    cursor.execute(query_salesperson)\n",
    "    salespersons = cursor.fetchall()\n",
    "\n",
    "    # 查询商品列表\n",
    "    query_product = \"SELECT id, name, price FROM Product\"\n",
    "    cursor.execute(query_product)\n",
    "    products = cursor.fetchall()\n",
    "\n",
    "    # 查询当前大区的客户列表\n",
    "    query_customer = f\"SELECT id FROM Customer WHERE region_id = {region}\"\n",
    "    cursor.execute(query_customer)\n",
    "    customers = cursor.fetchall()\n",
    "\n",
    "    for month in range(1, 7):  # 遍历每个月份\n",
    "        # 获取当前月份的起始日期和结束日期\n",
    "        month_start = datetime.date(2023, month, 1)\n",
    "        if month == 6:\n",
    "            month_end = datetime.date(2023, 6, 30)\n",
    "        else:\n",
    "            month_end = datetime.date(\n",
    "                2023, month + 1, 1) - datetime.timedelta(days=1)\n",
    "\n",
    "        # 随机生成每个月的销售记录数量\n",
    "        sales_count = random.randint(50, 150)\n",
    "\n",
    "        for _ in range(sales_count):\n",
    "            # 随机选择日期\n",
    "            sale_date = random.choice(\n",
    "                [date for date in daterange(month_start, month_end)])\n",
    "            sale_date_str = sale_date.strftime(\"%Y-%m-%d\")\n",
    "\n",
    "            salesperson_id = random.choice(salespersons)[0]\n",
    "            product = random.choice(products)\n",
    "            product_id = product[0]\n",
    "            product_price = product[2]\n",
    "            customer_id = random.choice(customers)[0]\n",
    "            quantity = random.randint(1, 10)\n",
    "            total = quantity * product_price\n",
    "\n",
    "            sales_data.append((salesperson_id, product_id,\n",
    "                              customer_id, region, quantity, total, sale_date_str))\n",
    "\n",
    "# 插入销售数据\n",
    "insert_sales_data = \"INSERT INTO SalesData (salesperson_id, product_id, customer_id, region_id, amount, total, sales_date) VALUES (%s, %s, %s, %s, %s, %s, %s)\"\n",
    "cursor.executemany(insert_sales_data, sales_data)\n",
    "\n",
    "# 提交事务\n",
    "cnx.commit()"
   ]
  },
  {
   "cell_type": "code",
   "execution_count": 113,
   "metadata": {},
   "outputs": [
    {
     "name": "stdout",
     "output_type": "stream",
     "text": [
      "(217, 'moody甜心半年抛美瞳[1副需拍2片]彩色隐形眼镜男女官方旗舰店', Decimal('69.90'))\n",
      "217 moody甜心半年抛美瞳[1副需拍2片]彩色隐形眼镜男女官方旗舰店 69.90\n"
     ]
    }
   ],
   "source": [
    "query_product = \"SELECT id, name, price FROM Product\"\n",
    "cursor.execute(query_product)\n",
    "products = cursor.fetchall()\n",
    "\n",
    "product = random.choice(products)\n",
    "\n",
    "print(product)\n",
    "\n",
    "print(product[0], product[1], product[2])"
   ]
  },
  {
   "attachments": {},
   "cell_type": "markdown",
   "metadata": {},
   "source": [
    "## 关闭数据库连接\n"
   ]
  },
  {
   "cell_type": "code",
   "execution_count": 96,
   "metadata": {},
   "outputs": [],
   "source": [
    "cursor.close()\n",
    "cnx.close()"
   ]
  }
 ],
 "metadata": {
  "kernelspec": {
   "display_name": ".venv",
   "language": "python",
   "name": "python3"
  },
  "language_info": {
   "codemirror_mode": {
    "name": "ipython",
    "version": 3
   },
   "file_extension": ".py",
   "mimetype": "text/x-python",
   "name": "python",
   "nbconvert_exporter": "python",
   "pygments_lexer": "ipython3",
   "version": "3.10.12"
  },
  "orig_nbformat": 4
 },
 "nbformat": 4,
 "nbformat_minor": 2
}
